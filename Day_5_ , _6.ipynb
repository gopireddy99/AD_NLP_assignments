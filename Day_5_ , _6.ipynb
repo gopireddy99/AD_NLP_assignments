{
  "nbformat": 4,
  "nbformat_minor": 0,
  "metadata": {
    "colab": {
      "provenance": [],
      "authorship_tag": "ABX9TyOKwerGeuLCg08k+sqLYKce",
      "include_colab_link": true
    },
    "kernelspec": {
      "name": "python3",
      "display_name": "Python 3"
    },
    "language_info": {
      "name": "python"
    }
  },
  "cells": [
    {
      "cell_type": "markdown",
      "metadata": {
        "id": "view-in-github",
        "colab_type": "text"
      },
      "source": [
        "<a href=\"https://colab.research.google.com/github/gopireddy99/AD_NLP_assignments/blob/main/Day_5_%20%2C%20_6.ipynb\" target=\"_parent\"><img src=\"https://colab.research.google.com/assets/colab-badge.svg\" alt=\"Open In Colab\"/></a>"
      ]
    },
    {
      "cell_type": "markdown",
      "source": [
        "# **DAY - 5**\n",
        "# write a python program to calculate the frequency of each word in a given text . print the words and their corresponding counts"
      ],
      "metadata": {
        "id": "pn8lyc9HiTum"
      }
    },
    {
      "cell_type": "code",
      "execution_count": 2,
      "metadata": {
        "colab": {
          "base_uri": "https://localhost:8080/"
        },
        "id": "iNZWmG7biMI4",
        "outputId": "7f3654ac-a277-4273-9704-bf03de3e5729"
      },
      "outputs": [
        {
          "output_type": "stream",
          "name": "stdout",
          "text": [
            "this: 2\n",
            "is: 2\n",
            "a: 2\n",
            "test: 3\n",
            "only: 1\n"
          ]
        }
      ],
      "source": [
        "from collections import Counter\n",
        "import re\n",
        "\n",
        "def word_frequency(text):\n",
        "\n",
        "    # Normalize text: convert to lowercase and remove special characters\n",
        "    words = re.findall(r'\\b\\w+\\b', text.lower())\n",
        "\n",
        "    # Count the frequency of each word\n",
        "    word_counts = Counter(words)\n",
        "    return word_counts\n",
        "\n",
        "# Test the program\n",
        "test_text = \"This is a test. This test is only a test.\"\n",
        "word_counts = word_frequency(test_text)\n",
        "\n",
        "# Print the word frequencies\n",
        "for word, count in word_counts.items():\n",
        "    print(f\"{word}: {count}\")\n"
      ]
    },
    {
      "cell_type": "markdown",
      "source": [
        "# **DAY - 6**\n",
        "# Write a Python program to using NLTK and Spacy\n",
        "Convert text to lowercase.\n",
        "Remove stopwords using NLTK"
      ],
      "metadata": {
        "id": "eKNQd39NijAF"
      }
    },
    {
      "cell_type": "code",
      "source": [
        "import nltk\n",
        "from nltk.corpus import stopwords\n",
        "import spacy\n",
        "\n",
        "# Download the stopwords if not already downloaded\n",
        "nltk.download('stopwords')\n",
        "\n",
        "def process_text(text):\n",
        "\n",
        "    # Load NLTK stopwords\n",
        "    stop_words = set(stopwords.words('english'))\n",
        "\n",
        "    # Convert text to lowercase using spaCy\n",
        "    nlp = spacy.blank(\"en\")\n",
        "    doc = nlp(text.lower())\n",
        "\n",
        "    # Remove stopwords\n",
        "    processed_words = [token.text for token in doc if token.text not in stop_words]\n",
        "\n",
        "    return ' '.join(processed_words)\n",
        "\n",
        "# Test the program\n",
        "test_text = \"This is an example sentence to demonstrate text processing using NLTK and spaCy.\"\n",
        "processed_text = process_text(test_text)\n",
        "print(processed_text)\n"
      ],
      "metadata": {
        "colab": {
          "base_uri": "https://localhost:8080/"
        },
        "id": "aG6PHDeLidEx",
        "outputId": "5ce875ea-f4b2-444d-bd49-e831ac036f85"
      },
      "execution_count": 3,
      "outputs": [
        {
          "output_type": "stream",
          "name": "stderr",
          "text": [
            "[nltk_data] Downloading package stopwords to /root/nltk_data...\n",
            "[nltk_data]   Unzipping corpora/stopwords.zip.\n"
          ]
        },
        {
          "output_type": "stream",
          "name": "stdout",
          "text": [
            "example sentence demonstrate text processing using nltk spacy .\n"
          ]
        }
      ]
    },
    {
      "cell_type": "code",
      "source": [],
      "metadata": {
        "id": "Q03JBR9pi1Ch"
      },
      "execution_count": null,
      "outputs": []
    }
  ]
}