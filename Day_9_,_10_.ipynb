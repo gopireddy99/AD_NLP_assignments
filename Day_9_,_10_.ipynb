{
  "nbformat": 4,
  "nbformat_minor": 0,
  "metadata": {
    "colab": {
      "provenance": [],
      "authorship_tag": "ABX9TyP/w2pfaT6Mgbm4lmZoGYP7",
      "include_colab_link": true
    },
    "kernelspec": {
      "name": "python3",
      "display_name": "Python 3"
    },
    "language_info": {
      "name": "python"
    }
  },
  "cells": [
    {
      "cell_type": "markdown",
      "metadata": {
        "id": "view-in-github",
        "colab_type": "text"
      },
      "source": [
        "<a href=\"https://colab.research.google.com/github/gopireddy99/AD_NLP_assignments/blob/main/Day_9_%2C_10_.ipynb\" target=\"_parent\"><img src=\"https://colab.research.google.com/assets/colab-badge.svg\" alt=\"Open In Colab\"/></a>"
      ]
    },
    {
      "cell_type": "markdown",
      "source": [
        "# **DAY - 9**\n",
        "# Write a Python function to clean a given text by removing special characters and converting it to lowercase.\n",
        " Test it with the input: 'Hello, World! Welcome to NLP 101.'\n"
      ],
      "metadata": {
        "id": "HnUZOViGfQAj"
      }
    },
    {
      "cell_type": "code",
      "source": [
        "import re\n",
        "\n",
        "def clean_text(input_string):\n",
        "\n",
        "    # Remove special characters using regex\n",
        "    cleaned_string = re.sub(r'[^a-zA-Z0-9\\s]', '', input_string)\n",
        "    # Convert to lowercase\n",
        "    cleaned_string = cleaned_string.lower()\n",
        "    return cleaned_string\n",
        "\n",
        "# Test the function\n",
        "test_string = 'Hello, World! Welcome to NLP 101.'\n",
        "cleaned_text = clean_text(test_string)\n",
        "print(cleaned_text)\n"
      ],
      "metadata": {
        "colab": {
          "base_uri": "https://localhost:8080/"
        },
        "id": "DesTT6aifXyI",
        "outputId": "5b3586cd-2618-4965-c3e2-2f8e9c7765cf"
      },
      "execution_count": 4,
      "outputs": [
        {
          "output_type": "stream",
          "name": "stdout",
          "text": [
            "hello world welcome to nlp 101\n"
          ]
        }
      ]
    },
    {
      "cell_type": "markdown",
      "source": [
        "# **DAY - 10**\n",
        "# **Write a Python function using regular expressions to extract all email addresses from a given string.\n",
        "Test it with the input: 'Contact us at support@example.com and sales@example.org.'**\n"
      ],
      "metadata": {
        "id": "mGa61Ej9eeg1"
      }
    },
    {
      "cell_type": "code",
      "execution_count": 3,
      "metadata": {
        "colab": {
          "base_uri": "https://localhost:8080/"
        },
        "id": "gMuJ7uwJeaHf",
        "outputId": "dd3c1a5e-33af-4ebe-fc15-376b19eaa51a"
      },
      "outputs": [
        {
          "output_type": "stream",
          "name": "stdout",
          "text": [
            "['info@example.com', 'support123@company.org']\n"
          ]
        }
      ],
      "source": [
        "import re\n",
        "# Test case\n",
        "text = \"\"\"\n",
        "Hello world! Contact us at info@example.com or support123@company.org.\n",
        "\"\"\"\n",
        "emails = re.findall(r'[a-zA-Z0-9._%+-]+@[a-zA-Z0-9.-]+\\.[a-zA-Z]{2,}',text)\n",
        "print(emails)\n"
      ]
    },
    {
      "cell_type": "code",
      "source": [],
      "metadata": {
        "id": "ONn4dTgWezIq"
      },
      "execution_count": null,
      "outputs": []
    }
  ]
}