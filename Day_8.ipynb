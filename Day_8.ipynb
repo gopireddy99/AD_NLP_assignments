{
  "nbformat": 4,
  "nbformat_minor": 0,
  "metadata": {
    "colab": {
      "provenance": [],
      "authorship_tag": "ABX9TyOP7/RrdL29GFj5kGehzoNE",
      "include_colab_link": true
    },
    "kernelspec": {
      "name": "python3",
      "display_name": "Python 3"
    },
    "language_info": {
      "name": "python"
    }
  },
  "cells": [
    {
      "cell_type": "markdown",
      "metadata": {
        "id": "view-in-github",
        "colab_type": "text"
      },
      "source": [
        "<a href=\"https://colab.research.google.com/github/gopireddy99/NLP_assignments/blob/main/Day_8.ipynb\" target=\"_parent\"><img src=\"https://colab.research.google.com/assets/colab-badge.svg\" alt=\"Open In Colab\"/></a>"
      ]
    },
    {
      "cell_type": "markdown",
      "source": [
        "# **Write a python script -**\n",
        "# **# Tokenizes a sample paragraph into words and sentences**"
      ],
      "metadata": {
        "id": "-SRNOLdQ95Fy"
      }
    },
    {
      "cell_type": "code",
      "source": [
        "# Import necessary libraries\n",
        "import nltk\n",
        "\n",
        "# Download the required resource\n",
        "nltk.download('punkt')\n",
        "nltk.download('punkt_tab')\n",
        "\n",
        "# Now import the tokenizer functions\n",
        "from nltk.tokenize import word_tokenize, sent_tokenize\n",
        "\n",
        "# Sample paragraph\n",
        "paragraph = \"\"\"\n",
        "The story of Rip Van Winkle is set in the years before and after the American Revolutionary War.\n",
        "In a pleasant village, at the foot of New York's Catskill Mountains, lives kindly Rip Van Winkle, a Dutch villager.\n",
        "Van Winkle enjoys solitary activities in the wilderness, but he is also loved by all in town—especially the children to whom he tells stories and gives toys.\n",
        "However, he tends to shirk hard work, to his nagging wife's dismay, which has caused his home and farm to fall into disarray.\n",
        "\"\"\"\n",
        "\n",
        "# Tokenize into sentences\n",
        "sentences = sent_tokenize(paragraph)\n",
        "\n",
        "# Tokenize into words\n",
        "words = word_tokenize(paragraph)\n",
        "\n",
        "# Print the results\n",
        "print(\"Sentences:\", sentences)\n",
        "print(\"Words:\", words)\n"
      ],
      "metadata": {
        "colab": {
          "base_uri": "https://localhost:8080/"
        },
        "id": "awVvjB1y-H7S",
        "outputId": "e7270caf-adc5-41c2-b231-0a8d53fe5701"
      },
      "execution_count": 3,
      "outputs": [
        {
          "output_type": "stream",
          "name": "stderr",
          "text": [
            "[nltk_data] Downloading package punkt to /root/nltk_data...\n",
            "[nltk_data]   Package punkt is already up-to-date!\n",
            "[nltk_data] Downloading package punkt_tab to /root/nltk_data...\n",
            "[nltk_data]   Unzipping tokenizers/punkt_tab.zip.\n"
          ]
        },
        {
          "output_type": "stream",
          "name": "stdout",
          "text": [
            "Sentences: ['\\nThe story of Rip Van Winkle is set in the years before and after the American Revolutionary War.', \"In a pleasant village, at the foot of New York's Catskill Mountains, lives kindly Rip Van Winkle, a Dutch villager.\", 'Van Winkle enjoys solitary activities in the wilderness, but he is also loved by all in town—especially the children to whom he tells stories and gives toys.', \"However, he tends to shirk hard work, to his nagging wife's dismay, which has caused his home and farm to fall into disarray.\"]\n",
            "Words: ['The', 'story', 'of', 'Rip', 'Van', 'Winkle', 'is', 'set', 'in', 'the', 'years', 'before', 'and', 'after', 'the', 'American', 'Revolutionary', 'War', '.', 'In', 'a', 'pleasant', 'village', ',', 'at', 'the', 'foot', 'of', 'New', 'York', \"'s\", 'Catskill', 'Mountains', ',', 'lives', 'kindly', 'Rip', 'Van', 'Winkle', ',', 'a', 'Dutch', 'villager', '.', 'Van', 'Winkle', 'enjoys', 'solitary', 'activities', 'in', 'the', 'wilderness', ',', 'but', 'he', 'is', 'also', 'loved', 'by', 'all', 'in', 'town—especially', 'the', 'children', 'to', 'whom', 'he', 'tells', 'stories', 'and', 'gives', 'toys', '.', 'However', ',', 'he', 'tends', 'to', 'shirk', 'hard', 'work', ',', 'to', 'his', 'nagging', 'wife', \"'s\", 'dismay', ',', 'which', 'has', 'caused', 'his', 'home', 'and', 'farm', 'to', 'fall', 'into', 'disarray', '.']\n"
          ]
        }
      ]
    },
    {
      "cell_type": "code",
      "source": [],
      "metadata": {
        "id": "uenpofNo-Mkc"
      },
      "execution_count": null,
      "outputs": []
    }
  ]
}