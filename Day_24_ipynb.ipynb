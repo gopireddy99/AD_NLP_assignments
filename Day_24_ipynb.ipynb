{
  "nbformat": 4,
  "nbformat_minor": 0,
  "metadata": {
    "colab": {
      "provenance": [],
      "mount_file_id": "14EoJQcYO-CXTkH19BOreCj-75aFky3S9",
      "authorship_tag": "ABX9TyM8l6Vt4dtc4aGo3fTxmsBn",
      "include_colab_link": true
    },
    "kernelspec": {
      "name": "python3",
      "display_name": "Python 3"
    },
    "language_info": {
      "name": "python"
    }
  },
  "cells": [
    {
      "cell_type": "markdown",
      "metadata": {
        "id": "view-in-github",
        "colab_type": "text"
      },
      "source": [
        "<a href=\"https://colab.research.google.com/github/gopireddy99/AD_NLP_assignments/blob/main/Day_24_ipynb.ipynb\" target=\"_parent\"><img src=\"https://colab.research.google.com/assets/colab-badge.svg\" alt=\"Open In Colab\"/></a>"
      ]
    },
    {
      "cell_type": "markdown",
      "source": [
        "# **DAY - 24**\n",
        "# Write a Python program to load a text file, tokenize the text using NLTK, and display the 10 most common words. Use the NLTK library for tokenization.\n",
        "\n",
        "\n"
      ],
      "metadata": {
        "id": "9SnY5I3hAy7a"
      }
    },
    {
      "cell_type": "code",
      "source": [
        "pip install nltk\n"
      ],
      "metadata": {
        "id": "CpCgU4VXCawk",
        "colab": {
          "base_uri": "https://localhost:8080/"
        },
        "outputId": "b03d81ec-fdbe-4ea0-e9de-c186bab5445f"
      },
      "execution_count": 1,
      "outputs": [
        {
          "output_type": "stream",
          "name": "stdout",
          "text": [
            "Requirement already satisfied: nltk in /usr/local/lib/python3.11/dist-packages (3.9.1)\n",
            "Requirement already satisfied: click in /usr/local/lib/python3.11/dist-packages (from nltk) (8.1.8)\n",
            "Requirement already satisfied: joblib in /usr/local/lib/python3.11/dist-packages (from nltk) (1.4.2)\n",
            "Requirement already satisfied: regex>=2021.8.3 in /usr/local/lib/python3.11/dist-packages (from nltk) (2024.11.6)\n",
            "Requirement already satisfied: tqdm in /usr/local/lib/python3.11/dist-packages (from nltk) (4.67.1)\n"
          ]
        }
      ]
    },
    {
      "cell_type": "code",
      "source": [
        "nltk.download('punkt_tab')\n",
        "import nltk\n",
        "from nltk.tokenize import word_tokenize\n",
        "from nltk.probability import FreqDist\n",
        "\n",
        "# Download necessary NLTK data files (run this once)\n",
        "nltk.download('punkt')\n",
        "\n",
        "# Load the text file\n",
        "def load_text_file(file_path):\n",
        "    try:\n",
        "        with open(file_path, 'r') as file:\n",
        "            return file.read()\n",
        "    except FileNotFoundError:\n",
        "        print(f\"File not found: {file_path}\")\n",
        "        return None\n",
        "\n",
        "# Tokenize the text and find the 10 most common words\n",
        "def get_most_common_words(text, num_words=10):\n",
        "    # Tokenize the text\n",
        "    tokens = word_tokenize(text)\n",
        "\n",
        "    # Create a frequency distribution of the tokens\n",
        "    freq_dist = FreqDist(tokens)\n",
        "\n",
        "    # Get the most common words\n",
        "    return freq_dist.most_common(num_words)\n",
        "\n",
        "if __name__ == \"__main__\":\n",
        "    # Path to the text file\n",
        "    file_path = \"/content/drive/MyDrive/data/sample.txt\"  # Replace with your file's path\n",
        "\n",
        "    # Load and process the text file\n",
        "    text = load_text_file(file_path)\n",
        "    if text:\n",
        "        most_common_words = get_most_common_words(text)\n",
        "\n",
        "        # Display the results\n",
        "        print(\"The 10 most common words are:\")\n",
        "        for word, count in most_common_words:\n",
        "            print(f\"{word}: {count}\")\n"
      ],
      "metadata": {
        "colab": {
          "base_uri": "https://localhost:8080/"
        },
        "id": "eDl6Scdjuwcm",
        "outputId": "e768c65b-718b-41b8-943a-0d91553c6f9b"
      },
      "execution_count": 4,
      "outputs": [
        {
          "output_type": "stream",
          "name": "stderr",
          "text": [
            "[nltk_data] Downloading package punkt_tab to /root/nltk_data...\n",
            "[nltk_data]   Unzipping tokenizers/punkt_tab.zip.\n"
          ]
        },
        {
          "output_type": "stream",
          "name": "stdout",
          "text": [
            "The 10 most common words are:\n",
            "the: 7\n",
            ".: 6\n",
            "and: 6\n",
            ",: 6\n",
            "fox: 5\n",
            "dog: 5\n",
            "The: 4\n",
            "quick: 3\n",
            "are: 3\n",
            "was: 2\n"
          ]
        },
        {
          "output_type": "stream",
          "name": "stderr",
          "text": [
            "[nltk_data] Downloading package punkt to /root/nltk_data...\n",
            "[nltk_data]   Package punkt is already up-to-date!\n"
          ]
        }
      ]
    },
    {
      "cell_type": "code",
      "source": [],
      "metadata": {
        "id": "PYwhioq5xBCm"
      },
      "execution_count": null,
      "outputs": []
    }
  ]
}