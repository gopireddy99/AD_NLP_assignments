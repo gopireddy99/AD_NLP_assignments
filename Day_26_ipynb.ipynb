{
  "nbformat": 4,
  "nbformat_minor": 0,
  "metadata": {
    "colab": {
      "provenance": [],
      "mount_file_id": "14EoJQcYO-CXTkH19BOreCj-75aFky3S9",
      "authorship_tag": "ABX9TyMElALrjga3XyuouuLBYVjV",
      "include_colab_link": true
    },
    "kernelspec": {
      "name": "python3",
      "display_name": "Python 3"
    },
    "language_info": {
      "name": "python"
    }
  },
  "cells": [
    {
      "cell_type": "markdown",
      "metadata": {
        "id": "view-in-github",
        "colab_type": "text"
      },
      "source": [
        "<a href=\"https://colab.research.google.com/github/gopireddy99/AD_NLP_assignments/blob/main/Day_26_ipynb.ipynb\" target=\"_parent\"><img src=\"https://colab.research.google.com/assets/colab-badge.svg\" alt=\"Open In Colab\"/></a>"
      ]
    },
    {
      "cell_type": "markdown",
      "source": [
        "# **DAY - 26**\n",
        "# Text Similarity Techniques\n",
        "Write a Python program to calculate the cosine similarity between two strings using the Scikit-learn library. You can use the 'TfidfVectorizer' class to transform the text into vectors.\n",
        "\n",
        "\n"
      ],
      "metadata": {
        "id": "9SnY5I3hAy7a"
      }
    },
    {
      "cell_type": "code",
      "source": [
        "from sklearn.feature_extraction.text import TfidfVectorizer\n",
        "from sklearn.metrics.pairwise import cosine_similarity\n",
        "\n",
        "def calculate_cosine_similarity(string1, string2):\n",
        "    # Create an instance of TfidfVectorizer\n",
        "    vectorizer = TfidfVectorizer()\n",
        "\n",
        "    # Transform the strings into TF-IDF vectors\n",
        "    tfidf_matrix = vectorizer.fit_transform([string1, string2])\n",
        "\n",
        "    # Compute the cosine similarity between the vectors\n",
        "    similarity = cosine_similarity(tfidf_matrix[0:1], tfidf_matrix[1:2])\n",
        "\n",
        "    return similarity[0][0]\n",
        "\n",
        "# Example usage\n",
        "text1 = \"Natural language processing is a subfield of AI.\"\n",
        "text2 = \"AI includes natural language processing as a major subfield.\"\n",
        "\n",
        "cosine_sim = calculate_cosine_similarity(text1, text2)\n",
        "print(f\"Cosine Similarity: {cosine_sim:.4f}\")\n"
      ],
      "metadata": {
        "colab": {
          "base_uri": "https://localhost:8080/"
        },
        "id": "eDl6Scdjuwcm",
        "outputId": "d78ac450-a95f-4f39-c6e6-7a81428e9a76"
      },
      "execution_count": 1,
      "outputs": [
        {
          "output_type": "stream",
          "name": "stdout",
          "text": [
            "Cosine Similarity: 0.5056\n"
          ]
        }
      ]
    },
    {
      "cell_type": "code",
      "source": [],
      "metadata": {
        "id": "PYwhioq5xBCm"
      },
      "execution_count": null,
      "outputs": []
    }
  ]
}